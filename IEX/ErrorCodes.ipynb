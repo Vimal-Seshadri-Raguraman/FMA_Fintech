{
 "cells": [
  {
   "cell_type": "code",
   "execution_count": 1,
   "metadata": {
    "collapsed": true
   },
   "outputs": [],
   "source": [
    "import pandas as pd"
   ]
  },
  {
   "cell_type": "code",
   "execution_count": 2,
   "outputs": [],
   "source": [
    "errorCodes = pd.read_csv(\"ErrorCodes.csv\")"
   ],
   "metadata": {
    "collapsed": false,
    "pycharm": {
     "name": "#%%\n"
    }
   }
  },
  {
   "cell_type": "code",
   "execution_count": 3,
   "outputs": [
    {
     "data": {
      "text/plain": "    Status Code                            Type  \\\n0           400                Incorrect Values   \n1           400                       No Symbol   \n2           400                   Type Required   \n3           401        Authorization Restricted   \n4           401          Authorization Required   \n5           401                      Restricted   \n6           401                          No Key   \n7           401             Secret Key Required   \n8           401                  Denied Referer   \n9           402                      Over Limit   \n10          402           Free tier not allowed   \n11          402                Tier not allowed   \n12          403           Authorization Invalid   \n13          403                    Disabled Key   \n14          403                     Invalid Key   \n15          403        Test token in production   \n16          403     Production token in sandbox   \n17          403                 Circuit Breaker   \n18          403                        Inactive   \n19          404                  Unknown Symbol   \n20          404                       Not Found   \n21          413                       Max Types   \n22          429               Too many requests   \n23          451  Enterprise Permission Required   \n24          500                    System Error   \n\n                                          Description  \n0    Invalid values were supplied for the API request  \n1                                  No symbol provided  \n2   Batch request types parameter requires a valid...  \n3            Hashed token authorization is restricted  \n4              Hashed token authorization is required  \n5   The requested data is marked restricted and th...  \n6   An API key is required to access the requested...  \n7   The secret key is required to access to reques...  \n8   The referer in the request header is not allow...  \n9   You have exceeded your allotted credit quota (...  \n10  The requested endpoint is not available to fre...  \n11  The requested data is not available to your cu...  \n12             Hashed token authorization is invalid.  \n13           The provided API token has been disabled  \n14               The provided API token is not valid.  \n15   A test token was used for a production endpoint.  \n16  A production token was used for a sandbox endp...  \n17  Your pay-as-you-go circuit breaker has been en...  \n18                Your account is currently inactive.  \n19                            Unknown symbol provided  \n20                                 Resource not found  \n21  Maximum number of types values provided in a b...  \n22  Too many requests hit the API too quickly. An ...  \n23  The requested data requires additional permiss...  \n24       Something went wrong on an IEX Cloud server.  ",
      "text/html": "<div>\n<style scoped>\n    .dataframe tbody tr th:only-of-type {\n        vertical-align: middle;\n    }\n\n    .dataframe tbody tr th {\n        vertical-align: top;\n    }\n\n    .dataframe thead th {\n        text-align: right;\n    }\n</style>\n<table border=\"1\" class=\"dataframe\">\n  <thead>\n    <tr style=\"text-align: right;\">\n      <th></th>\n      <th>Status Code</th>\n      <th>Type</th>\n      <th>Description</th>\n    </tr>\n  </thead>\n  <tbody>\n    <tr>\n      <th>0</th>\n      <td>400</td>\n      <td>Incorrect Values</td>\n      <td>Invalid values were supplied for the API request</td>\n    </tr>\n    <tr>\n      <th>1</th>\n      <td>400</td>\n      <td>No Symbol</td>\n      <td>No symbol provided</td>\n    </tr>\n    <tr>\n      <th>2</th>\n      <td>400</td>\n      <td>Type Required</td>\n      <td>Batch request types parameter requires a valid...</td>\n    </tr>\n    <tr>\n      <th>3</th>\n      <td>401</td>\n      <td>Authorization Restricted</td>\n      <td>Hashed token authorization is restricted</td>\n    </tr>\n    <tr>\n      <th>4</th>\n      <td>401</td>\n      <td>Authorization Required</td>\n      <td>Hashed token authorization is required</td>\n    </tr>\n    <tr>\n      <th>5</th>\n      <td>401</td>\n      <td>Restricted</td>\n      <td>The requested data is marked restricted and th...</td>\n    </tr>\n    <tr>\n      <th>6</th>\n      <td>401</td>\n      <td>No Key</td>\n      <td>An API key is required to access the requested...</td>\n    </tr>\n    <tr>\n      <th>7</th>\n      <td>401</td>\n      <td>Secret Key Required</td>\n      <td>The secret key is required to access to reques...</td>\n    </tr>\n    <tr>\n      <th>8</th>\n      <td>401</td>\n      <td>Denied Referer</td>\n      <td>The referer in the request header is not allow...</td>\n    </tr>\n    <tr>\n      <th>9</th>\n      <td>402</td>\n      <td>Over Limit</td>\n      <td>You have exceeded your allotted credit quota (...</td>\n    </tr>\n    <tr>\n      <th>10</th>\n      <td>402</td>\n      <td>Free tier not allowed</td>\n      <td>The requested endpoint is not available to fre...</td>\n    </tr>\n    <tr>\n      <th>11</th>\n      <td>402</td>\n      <td>Tier not allowed</td>\n      <td>The requested data is not available to your cu...</td>\n    </tr>\n    <tr>\n      <th>12</th>\n      <td>403</td>\n      <td>Authorization Invalid</td>\n      <td>Hashed token authorization is invalid.</td>\n    </tr>\n    <tr>\n      <th>13</th>\n      <td>403</td>\n      <td>Disabled Key</td>\n      <td>The provided API token has been disabled</td>\n    </tr>\n    <tr>\n      <th>14</th>\n      <td>403</td>\n      <td>Invalid Key</td>\n      <td>The provided API token is not valid.</td>\n    </tr>\n    <tr>\n      <th>15</th>\n      <td>403</td>\n      <td>Test token in production</td>\n      <td>A test token was used for a production endpoint.</td>\n    </tr>\n    <tr>\n      <th>16</th>\n      <td>403</td>\n      <td>Production token in sandbox</td>\n      <td>A production token was used for a sandbox endp...</td>\n    </tr>\n    <tr>\n      <th>17</th>\n      <td>403</td>\n      <td>Circuit Breaker</td>\n      <td>Your pay-as-you-go circuit breaker has been en...</td>\n    </tr>\n    <tr>\n      <th>18</th>\n      <td>403</td>\n      <td>Inactive</td>\n      <td>Your account is currently inactive.</td>\n    </tr>\n    <tr>\n      <th>19</th>\n      <td>404</td>\n      <td>Unknown Symbol</td>\n      <td>Unknown symbol provided</td>\n    </tr>\n    <tr>\n      <th>20</th>\n      <td>404</td>\n      <td>Not Found</td>\n      <td>Resource not found</td>\n    </tr>\n    <tr>\n      <th>21</th>\n      <td>413</td>\n      <td>Max Types</td>\n      <td>Maximum number of types values provided in a b...</td>\n    </tr>\n    <tr>\n      <th>22</th>\n      <td>429</td>\n      <td>Too many requests</td>\n      <td>Too many requests hit the API too quickly. An ...</td>\n    </tr>\n    <tr>\n      <th>23</th>\n      <td>451</td>\n      <td>Enterprise Permission Required</td>\n      <td>The requested data requires additional permiss...</td>\n    </tr>\n    <tr>\n      <th>24</th>\n      <td>500</td>\n      <td>System Error</td>\n      <td>Something went wrong on an IEX Cloud server.</td>\n    </tr>\n  </tbody>\n</table>\n</div>"
     },
     "execution_count": 3,
     "metadata": {},
     "output_type": "execute_result"
    }
   ],
   "source": [
    "errorCodes"
   ],
   "metadata": {
    "collapsed": false,
    "pycharm": {
     "name": "#%%\n"
    }
   }
  }
 ],
 "metadata": {
  "kernelspec": {
   "name": "pycharm-9a50a42c",
   "language": "python",
   "display_name": "PyCharm (Programming)"
  },
  "language_info": {
   "codemirror_mode": {
    "name": "ipython",
    "version": 2
   },
   "file_extension": ".py",
   "mimetype": "text/x-python",
   "name": "python",
   "nbconvert_exporter": "python",
   "pygments_lexer": "ipython2",
   "version": "2.7.6"
  }
 },
 "nbformat": 4,
 "nbformat_minor": 0
}